{
  "nbformat": 4,
  "nbformat_minor": 0,
  "metadata": {
    "colab": {
      "name": "VAE.ipynb",
      "provenance": [],
      "collapsed_sections": []
    },
    "kernelspec": {
      "name": "python3",
      "display_name": "Python 3"
    }
  },
  "cells": [
    {
      "cell_type": "code",
      "metadata": {
        "id": "HGOfom95fCjs",
        "colab_type": "code",
        "colab": {}
      },
      "source": [
        "!pip install -q -U tensorflow>=1.8.0\n",
        "import numpy as np\n",
        "import tensorflow as tf\n",
        "from tensorflow.keras.layers import Input, Dense, Dropout, Add, Multiply\n",
        "from tensorflow.keras.models import Model\n",
        "from tensorflow.keras.datasets import mnist\n",
        "import matplotlib.pyplot as plt"
      ],
      "execution_count": 0,
      "outputs": []
    },
    {
      "cell_type": "code",
      "metadata": {
        "id": "C6sqSUrzfJfX",
        "colab_type": "code",
        "colab": {}
      },
      "source": [
        "\n",
        "(x_train, _), (x_test, _) = mnist.load_data()\n",
        "x_train = x_train.astype('float32') / 255.\n",
        "x_test = x_test.astype('float32') / 255.\n",
        "\n",
        "x_train = x_train.reshape((len(x_train), 784))\n",
        "x_test = x_test.reshape((len(x_test), 784))\n",
        "\n",
        "print(x_train.shape)\n",
        "print(x_test.shape)"
      ],
      "execution_count": 0,
      "outputs": []
    },
    {
      "cell_type": "code",
      "metadata": {
        "id": "Q0FMqN8afWvt",
        "colab_type": "code",
        "colab": {}
      },
      "source": [
        "input_img = Input(shape=(784,))\n",
        "x = Dense(200, activation='tanh')(input_img)\n",
        "x = Dropout(0.5)(x)\n",
        "x = Dense(32, activation='tanh')(x)\n",
        "encoded = Dropout(0.5)(x)\n",
        "mean = encoded[:,:16]\n",
        "var = tf.math.square(encoded[:,16:])\n",
        "eps =  tf.random.normal([1,16], mean=0.0, stddev=1.0, dtype=tf.dtypes.float32, seed=None, name=None)\n",
        "mul = Multiply()([var,eps])\n",
        "add = Add()([mul,mean])\n",
        "y = Dense(200, activation='tanh')(add)\n",
        "decoded = Dense(784, activation='sigmoid')(y)\n",
        "auto_encoder = Model(input_img, decoded)\n",
        "encoder = Model(input_img, encoded)\n",
        "\n",
        "encoded_input = Input(shape=(16,))\n",
        "decoder_layer_1 = auto_encoder.layers[-2]\n",
        "decoder_layer_2 = auto_encoder.layers[-1]\n",
        "decoder = Model(encoded_input, decoder_layer_2(decoder_layer_1(encoded_input)))\n"
      ],
      "execution_count": 0,
      "outputs": []
    },
    {
      "cell_type": "code",
      "metadata": {
        "id": "En47y4Nfd-4t",
        "colab_type": "code",
        "colab": {}
      },
      "source": [
        "auto_encoder.layers"
      ],
      "execution_count": 0,
      "outputs": []
    },
    {
      "cell_type": "code",
      "metadata": {
        "id": "3euCOU5SCrjg",
        "colab_type": "code",
        "colab": {}
      },
      "source": [
        "def custom_loss_func(L,KL):\n",
        "  bce = tf.keras.losses.BinaryCrossentropy()\n",
        "  def custom_loss_fun(x,y):\n",
        "    encoded = encoder(x)\n",
        "    mean = encoded[:,:16]\n",
        "    sd = tf.math.square(encoded[:,16:])\n",
        "    loss = 0\n",
        "    for i in range(L):\n",
        "      ep = tf.random.normal([x.shape[0],16])\n",
        "      z = mean + tf.multiply(ep,sd)\n",
        "      decoded_output = decoder(z)\n",
        "      decoder_loss = bce(x,decoded_output)\n",
        "      loss += tf.reduce_mean(decoder_loss)\n",
        "    loss = loss/L\n",
        "    encoder_loss = KL * tf.reduce_sum(1.0 - tf.square(sd) - tf.square(mean) + tf.math.log(tf.square(sd)), 1)\n",
        "    loss += tf.reduce_mean(encoder_loss)\n",
        "    return loss\n",
        "  return custom_loss_fun\n",
        "\n"
      ],
      "execution_count": 0,
      "outputs": []
    },
    {
      "cell_type": "code",
      "metadata": {
        "id": "v7ungSs5nNjo",
        "colab_type": "code",
        "colab": {}
      },
      "source": [
        "from google.colab import drive\n",
        "drive.mount('/content/drive')\n",
        "%cd drive/My\\ Drive/Colab\\ Notebooks\n",
        "%pwd"
      ],
      "execution_count": 0,
      "outputs": []
    },
    {
      "cell_type": "code",
      "metadata": {
        "id": "RyUOeNPsrwuq",
        "colab_type": "code",
        "colab": {}
      },
      "source": [
        "optimizer = tf.keras.optimizers.Adam(learning_rate=0.001)\n",
        "auto_encoder.compile(loss=custom_loss_func(1,0.00001), optimizer = optimizer)\n",
        "cp_callback = tf.keras.callbacks.ModelCheckpoint(filepath='full_vae_weights.hdf5',save_weights_only=True, verbose = 0 )"
      ],
      "execution_count": 0,
      "outputs": []
    },
    {
      "cell_type": "code",
      "metadata": {
        "id": "yjdvnyx1opq8",
        "colab_type": "code",
        "colab": {}
      },
      "source": [
        "auto_encoder.fit(x_train,x_train,batch_size=100,epochs=100,validation_data=(x_test, x_test),callbacks=[cp_callback])"
      ],
      "execution_count": 0,
      "outputs": []
    },
    {
      "cell_type": "code",
      "metadata": {
        "id": "AxuwFkGMa0Qc",
        "colab_type": "code",
        "outputId": "72ba2abf-5ad8-4896-8d4c-678f339ca785",
        "colab": {
          "base_uri": "https://localhost:8080/",
          "height": 231
        }
      },
      "source": [
        "auto_encoder.load_weights(filepath='full_vae_weights.hdf5')\n",
        "randoms = np.asarray([np.random.normal(0, 1, 16) for _ in range(16)])\n",
        "images = decoder.predict(randoms)\n",
        "print(images.shape)\n",
        "imgs = auto_encoder.predict(x_test[:16])\n",
        "imgs = [np.reshape(imgs[i],(28,28)) for i in range(len(imgs))]\n",
        "\n",
        "fig, axs = plt.subplots(3,16, sharex=True, sharey=True, gridspec_kw={'hspace': 0})\n",
        "\n",
        "for i in range(len(imgs)) : \n",
        "  axs[0][i].imshow(x_test[i].reshape(28,28))\n",
        "  axs[1][i].imshow(imgs[i])\n",
        "  axs[2][i].imshow(images[i].reshape(28,28))\n",
        "\n",
        "plt.show()\n"
      ],
      "execution_count": 0,
      "outputs": [
        {
          "output_type": "stream",
          "text": [
            "(16, 784)\n"
          ],
          "name": "stdout"
        },
        {
          "output_type": "display_data",
          "data": {
            "image/png": "[encoded data removed]",
            "text/plain": [
              "<Figure size 432x288 with 48 Axes>"
            ]
          },
          "metadata": {
            "tags": []
          }
        }
      ]
    },
    {
      "cell_type": "code",
      "metadata": {
        "id": "kWhOoQGncDFv",
        "colab_type": "code",
        "colab": {}
      },
      "source": [
        ""
      ],
      "execution_count": 0,
      "outputs": []
    }
  ]
}